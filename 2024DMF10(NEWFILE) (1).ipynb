{
 "cells": [
  {
   "cell_type": "code",
   "execution_count": 7,
   "id": "e3c24f2d-1e92-4d96-b6ab-29aa484aaf05",
   "metadata": {},
   "outputs": [
    {
     "name": "stdout",
     "output_type": "stream",
     "text": [
      "Company: WW Grainger Inc\n",
      "ESG Grade: BB\n",
      "ESG Score: 880\n",
      "ESG Level: Medium\n",
      "Insight: Moderate ESG performance. The company needs to work on sustainability.\n"
     ]
    }
   ],
   "source": [
    "import esg_analyzer as em  \n",
    "\n",
    "inspector = em.ESGAnalyzer(\"new dataset for python.csv\")  \n",
    "\n",
    "company_name = \"WW Grainger Inc\"  \n",
    "print(inspector.get_esg_info(company_name))  # Calling the method\n"
   ]
  },
  {
   "cell_type": "code",
   "execution_count": null,
   "id": "224bedd7-cdbe-4746-b0fd-50d854d42fee",
   "metadata": {},
   "outputs": [],
   "source": []
  },
  {
   "cell_type": "code",
   "execution_count": null,
   "id": "a0e6873e-ee5b-4c33-8499-dabdbec6b6e6",
   "metadata": {},
   "outputs": [],
   "source": []
  }
 ],
 "metadata": {
  "kernelspec": {
   "display_name": "Python 3 (ipykernel)",
   "language": "python",
   "name": "python3"
  },
  "language_info": {
   "codemirror_mode": {
    "name": "ipython",
    "version": 3
   },
   "file_extension": ".py",
   "mimetype": "text/x-python",
   "name": "python",
   "nbconvert_exporter": "python",
   "pygments_lexer": "ipython3",
   "version": "3.12.4"
  }
 },
 "nbformat": 4,
 "nbformat_minor": 5
}
